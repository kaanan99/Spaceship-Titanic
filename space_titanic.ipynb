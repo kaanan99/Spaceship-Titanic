{
 "cells": [
  {
   "cell_type": "code",
   "execution_count": null,
   "metadata": {},
   "outputs": [],
   "source": [
    "import pandas as pd\n",
    "import numpy as np\n",
    "import plotly.express as px\n",
    "import matplotlib.pyplot as plt\n"
   ]
  },
  {
   "cell_type": "code",
   "execution_count": null,
   "metadata": {},
   "outputs": [],
   "source": [
    "training_data = pd.read_csv(\"Data/train.csv\")\n",
    "testing_data = pd.read_csv(\"Data/test.csv\")"
   ]
  },
  {
   "cell_type": "code",
   "execution_count": null,
   "metadata": {},
   "outputs": [],
   "source": [
    "training_data.describe()"
   ]
  },
  {
   "cell_type": "code",
   "execution_count": null,
   "metadata": {},
   "outputs": [],
   "source": [
    "# Split Passenger ID into Group number and position columns\n",
    "training_data[[\"GroupNum\", \"GroupPosition\"]] = (\n",
    "    training_data\n",
    "    .PassengerId\n",
    "    .str\n",
    "    .split(\"_\", expand=True)\n",
    ")\n",
    "\n",
    "# Splitting Cabin into Deck, Room number, and side of ship \n",
    "training_data[[\"Deck\", \"RoomNum\", \"Side\"]] = (\n",
    "    training_data\n",
    "    .Cabin\n",
    "    .str\n",
    "    .split(\"/\", expand=True)\n",
    ")\n",
    "\n",
    "# Convert Data to proper types\n",
    "training_data[\"GroupNum\"] = training_data.GroupNum.astype('Int64')\n",
    "training_data[\"GroupPosition\"] = training_data.GroupPosition.astype('Int64')\n",
    "training_data[\"RoomNum\"] = training_data.RoomNum.astype('Int64')\n",
    "\n",
    "# # Dropping Passenger ID, Cabin, and Name because they are unused\n",
    "# training_data = training_data.drop(columns=[\"PassengerId\", \"Cabin\", \"Name\"])"
   ]
  },
  {
   "cell_type": "code",
   "execution_count": null,
   "metadata": {},
   "outputs": [],
   "source": [
    "training_data.describe()"
   ]
  },
  {
   "cell_type": "code",
   "execution_count": null,
   "metadata": {},
   "outputs": [],
   "source": [
    "#Seperating Data into numerical columns then created a for loop to display the distribution of each column\n",
    "column_name = ['Age','RoomService','FoodCourt','ShoppingMall','Spa','VRDeck']\n",
    "for name in column_name:\n",
    "    fig=px.histogram(training_data, x=name, title=f'Distribution of {name}')\n",
    "    fig.show()"
   ]
  },
  {
   "cell_type": "markdown",
   "metadata": {},
   "source": [
    "## EDA"
   ]
  },
  {
   "cell_type": "markdown",
   "metadata": {},
   "source": [
    "### Home Planet"
   ]
  },
  {
   "cell_type": "code",
   "execution_count": null,
   "metadata": {},
   "outputs": [],
   "source": [
    "# Calculating how many passengers survived per home planet\n",
    "training_data[\"count\"] = 1\n",
    "survivability_per_home_planet = (\n",
    "    training_data\n",
    "    .groupby([\"HomePlanet\", \"Transported\"])\n",
    "    .sum()[\"count\"]\n",
    "    .reset_index()\n",
    ")"
   ]
  },
  {
   "cell_type": "code",
   "execution_count": null,
   "metadata": {},
   "outputs": [],
   "source": [
    "# Total number of passengers per home planet\n",
    "total_passengers_per_planet = (\n",
    "    pd.DataFrame(\n",
    "        training_data\n",
    "        .HomePlanet\n",
    "        .value_counts()\n",
    "    )\n",
    "    .reset_index()\n",
    "    .rename(columns={\"count\":\"Total\"})\n",
    ")\n",
    "\n",
    "# How many passengers survived per home planet\n",
    "home_planet_survived = (\n",
    "    survivability_per_home_planet\n",
    "    .query(\"Transported == True\")\n",
    "    .rename(columns={\"count\":\"Survived\"})\n",
    ")"
   ]
  },
  {
   "cell_type": "code",
   "execution_count": null,
   "metadata": {},
   "outputs": [],
   "source": [
    "# Calculate survivability ratio per home planet\n",
    "passenger_per_planet = total_passengers_per_planet.merge(home_planet_survived, right_on=\"HomePlanet\", left_on=\"HomePlanet\")\n",
    "\n",
    "passenger_per_planet[\"Survival Ratio\"] = passenger_per_planet.Survived / passenger_per_planet.Total\n",
    "\n",
    "passenger_per_planet"
   ]
  }
 ],
 "metadata": {
  "kernelspec": {
   "display_name": "space_titanic",
   "language": "python",
   "name": "python3"
  },
  "language_info": {
   "codemirror_mode": {
    "name": "ipython",
    "version": 3
   },
   "file_extension": ".py",
   "mimetype": "text/x-python",
   "name": "python",
   "nbconvert_exporter": "python",
   "pygments_lexer": "ipython3",
   "version": "3.10.13"
  }
 },
 "nbformat": 4,
 "nbformat_minor": 2
}
